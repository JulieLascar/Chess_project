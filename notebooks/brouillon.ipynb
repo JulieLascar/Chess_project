{
 "cells": [
  {
   "cell_type": "code",
   "execution_count": null,
   "id": "c0a13733",
   "metadata": {},
   "outputs": [],
   "source": [
    "import os\n",
    "import json\n",
    "import torch\n",
    "import sys\n",
    "sys.path.append('../src')\n",
    "from model import *\n",
    "\n",
    "games_nb = 100\n",
    "rules = \"with_rules\" \n",
    "expe = \"Expe3\"\n",
    "\n",
    "\n",
    "key_name = f\"{games_nb}_{rules}\"\n",
    "device = torch.device(\"cuda\" if torch.cuda.is_available() else \"cpu\")\n",
    "\n",
    "\n",
    "model_path = os.path.join(\"..\",\"experiments\",expe,\"models\", f\"best_model_{key_name}.pth\")\n",
    "# Charger le modèle\n",
    "checkpoint = torch.load(model_path, map_location=device, weights_only=False)\n",
    "model_name = checkpoint['training_cfg'].model_name\n"
   ]
  },
  {
   "cell_type": "code",
   "execution_count": 7,
   "id": "6edd8701",
   "metadata": {},
   "outputs": [
    {
     "data": {
      "text/plain": [
       "dict_keys(['epoch', 'model_state_dict', 'optimizer_state_dict', 'val_acc', 'val_loss', 'train_acc', 'train_loss', 'training_cfg'])"
      ]
     },
     "execution_count": 7,
     "metadata": {},
     "output_type": "execute_result"
    }
   ],
   "source": [
    "checkpoint.keys()"
   ]
  },
  {
   "cell_type": "code",
   "execution_count": 10,
   "id": "07d8ba24",
   "metadata": {},
   "outputs": [
    {
     "data": {
      "text/plain": [
       "<Config keys=[train_data, val_data, L_games_nb, valgames_nb, model_name, lr, epochs, expe, tensorboard, save_model, L_rules]>"
      ]
     },
     "execution_count": 10,
     "metadata": {},
     "output_type": "execute_result"
    }
   ],
   "source": [
    "checkpoint['training_cfg']"
   ]
  },
  {
   "cell_type": "code",
   "execution_count": null,
   "id": "41b12664",
   "metadata": {},
   "outputs": [],
   "source": [
    "model = models_dict[model_name](input_dim=input_dim, num_classes=num_classes)\n",
    "model.load_state_dict(checkpoint[\"model_state_dict\"])\n",
    "model.to(device)\n",
    "model.eval()"
   ]
  }
 ],
 "metadata": {
  "kernelspec": {
   "display_name": "chess",
   "language": "python",
   "name": "python3"
  },
  "language_info": {
   "codemirror_mode": {
    "name": "ipython",
    "version": 3
   },
   "file_extension": ".py",
   "mimetype": "text/x-python",
   "name": "python",
   "nbconvert_exporter": "python",
   "pygments_lexer": "ipython3",
   "version": "3.12.3"
  }
 },
 "nbformat": 4,
 "nbformat_minor": 5
}
