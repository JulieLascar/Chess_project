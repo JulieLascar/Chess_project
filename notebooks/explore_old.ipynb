{
 "cells": [
  {
   "cell_type": "markdown",
   "id": "0ecd379b",
   "metadata": {},
   "source": [
    "# Préparer les données "
   ]
  },
  {
   "cell_type": "markdown",
   "id": "53316786",
   "metadata": {},
   "source": [
    "## 1. Télécharger les données"
   ]
  },
  {
   "cell_type": "code",
   "execution_count": 1,
   "id": "50b1d426",
   "metadata": {},
   "outputs": [
    {
     "name": "stdout",
     "output_type": "stream",
     "text": [
      "Téléchargement de lichess_db_standard_rated_2025-08.pgn.zst...\n"
     ]
    },
    {
     "name": "stderr",
     "output_type": "stream",
     "text": [
      "100%|██████████| 30.2G/30.2G [06:13<00:00, 80.9MiB/s]"
     ]
    },
    {
     "name": "stdout",
     "output_type": "stream",
     "text": [
      "Le fichier décompressé lichess_db_standard_rated_2025-08.pgn existe déjà.\n"
     ]
    },
    {
     "name": "stderr",
     "output_type": "stream",
     "text": [
      "\n"
     ]
    }
   ],
   "source": [
    "from downloader import *\n",
    "url = 'https://database.lichess.org/standard/lichess_db_standard_rated_2025-08.pgn.zst'\n",
    "chessdataloader = ChessDataDownloader(url=url)\n",
    "filepath = chessdataloader.download()\n",
    "output_path = chessdataloader.decompress('lichess_db_standard_rated_2025-08.pgn.zst')"
   ]
  },
  {
   "cell_type": "markdown",
   "id": "34cc7a85",
   "metadata": {},
   "source": [
    "## 2. Filtrer les parties : nb de parties, min elo, max elo, nb max de coups"
   ]
  },
  {
   "cell_type": "code",
   "execution_count": 1,
   "id": "d4e7501f",
   "metadata": {},
   "outputs": [
    {
     "name": "stdout",
     "output_type": "stream",
     "text": [
      "Vocabulary size: 46\n",
      "Number of valid characters: 43\n",
      "Critères de filtrage:\n",
      "- Elo minimum: 2000\n",
      "- Nombre de coups: 10-300\n",
      "- Temps de contrôle minimum: 3.0 minutes\n"
     ]
    },
    {
     "name": "stderr",
     "output_type": "stream",
     "text": [
      "Parsing PGN: 3160it [00:00, 730569.98it/s]"
     ]
    },
    {
     "name": "stdout",
     "output_type": "stream",
     "text": [
      "\n",
      "Statistiques du parsing:\n",
      "Parties totales: 158\n",
      "Filtrées par Elo: 120\n",
      "Filtrées par nombre de coups: 0\n",
      "Filtrées par temps de contrôle: 28\n",
      "Format invalide: 0\n",
      "Parties valides: 10\n"
     ]
    },
    {
     "name": "stderr",
     "output_type": "stream",
     "text": [
      "\n"
     ]
    }
   ],
   "source": [
    "from tokenizer import *\n",
    "from parser import *\n",
    "\n",
    "max_games = 10\n",
    "min_elo=2000\n",
    "min_moves = 10\n",
    "max_moves = 300\n",
    "filepath = \"lichess_db_standard_rated_2025-08.pgn\"\n",
    "ref = \"lichess-2025-08\"\n",
    "\n",
    "config = TokenizerConfig(\n",
    "    pad_token='<PAD>',\n",
    "    special_tokens=['<START>', '<END>'],\n",
    "    save_path='./models/chess_tokenizer.json'\n",
    ")\n",
    "\n",
    "# Selection et filtrage des parties \n",
    "tokenizer = ChessTokenizer(config)\n",
    "png_parser= PGNParser(tokenizer= tokenizer,min_elo=min_elo, min_moves = min_moves, max_moves = max_moves)\n",
    "games, valid_games, total_games = png_parser.parse_file(filepath=filepath, max_games = max_games)\n",
    "metadata = {'max_games' : max_games, 'min_elo':min_elo, 'min_moves': min_moves,'max_moves':max_moves, 'filepath':filepath}\n",
    "data = {'metadata' : metadata, 'PGNs':games }\n",
    "\n",
    "# Enregistrement du fichier\n",
    "with open(f\"pgnFiltered_{ref}.json\", \"w\", encoding=\"utf-8\") as f:\n",
    "    json.dump(data, f, ensure_ascii=False, indent=2)\n"
   ]
  },
  {
   "cell_type": "code",
   "execution_count": 2,
   "id": "7c68bd15",
   "metadata": {},
   "outputs": [
    {
     "data": {
      "text/plain": [
       "{'<PAD>': 0,\n",
       " '7': 1,\n",
       " 'Q': 2,\n",
       " '2': 3,\n",
       " '3': 4,\n",
       " '6': 5,\n",
       " 'B': 6,\n",
       " '4': 7,\n",
       " '8': 8,\n",
       " 'c': 9,\n",
       " 'K': 10,\n",
       " 'e': 11,\n",
       " 'b': 12,\n",
       " 'a': 13,\n",
       " 'P': 14,\n",
       " '5': 15,\n",
       " 'g': 16,\n",
       " '1': 17,\n",
       " 'f': 18,\n",
       " 'd': 19,\n",
       " 'N': 20,\n",
       " 'h': 21,\n",
       " 'R': 22,\n",
       " '#': 23,\n",
       " '.': 24,\n",
       " '=': 25,\n",
       " '9': 26,\n",
       " 'x': 27,\n",
       " '-': 28,\n",
       " '0': 29,\n",
       " '+': 30,\n",
       " 'O': 31,\n",
       " '\\n': 32,\n",
       " '[': 33,\n",
       " '/': 34,\n",
       " \"'\": 35,\n",
       " '(': 36,\n",
       " ')': 37,\n",
       " ' ': 38,\n",
       " '\\t': 39,\n",
       " ',': 40,\n",
       " ']': 41,\n",
       " '!': 42,\n",
       " '\"': 43,\n",
       " '<START>': 44,\n",
       " '<END>': 45}"
      ]
     },
     "execution_count": 2,
     "metadata": {},
     "output_type": "execute_result"
    }
   ],
   "source": [
    "tokenizer.vocab"
   ]
  },
  {
   "cell_type": "markdown",
   "id": "93330c8d",
   "metadata": {},
   "source": [
    "## 3. Convertir les parties en triplets (fen, coup suivant, coups légaux)"
   ]
  },
  {
   "cell_type": "code",
   "execution_count": 3,
   "id": "299dafc5",
   "metadata": {},
   "outputs": [],
   "source": [
    "import json\n",
    "from make_fen import *\n",
    "\n",
    "ref = \"lichess-2025-08\"\n",
    "\n",
    "with open(\"pgnFiltered_lichess-2025-08.json\", \"r\", encoding=\"utf-8\") as f:\n",
    "    games = json.load(f)\n",
    "\n",
    "metadata = games['metadata']\n",
    "games = games['PGNs']\n",
    "\n",
    "with open(f\"annot_data_{ref}.jsonl\", \"w\", encoding=\"utf-8\") as f:\n",
    "    for game, pgn in enumerate(games):\n",
    "        fens, moves, legal_moves = pgn2fen(pgn)\n",
    "        for coup in range(len(fens)):\n",
    "            line = {\n",
    "                'data_ref': ref,\n",
    "                'id': f'{game}_{coup}',\n",
    "                'FEN': fens[coup],\n",
    "                'next_move': moves[coup],\n",
    "                'legal_moves': legal_moves[coup],\n",
    "            }\n",
    "            f.write(json.dumps(line, ensure_ascii=False) + \"\\n\")\n"
   ]
  },
  {
   "cell_type": "markdown",
   "id": "e736c2a8",
   "metadata": {},
   "source": [
    "## Charger les données annotées enregistrées"
   ]
  },
  {
   "cell_type": "code",
   "execution_count": 5,
   "id": "c331734d",
   "metadata": {},
   "outputs": [
    {
     "data": {
      "text/plain": [
       "{'data_ref': 'lichess-2025-08',\n",
       " 'id': '0_5',\n",
       " 'FEN': 'rnbqkb1r/ppp1pppp/5n2/3p4/8/5NP1/PPPPPPBP/RNBQK2R b KQkq - 3 3',\n",
       " 'next_move': 'e7e6',\n",
       " 'legal_moves': ['h8g8',\n",
       "  'e8d7',\n",
       "  'd8d7',\n",
       "  'd8d6',\n",
       "  'c8d7',\n",
       "  'c8e6',\n",
       "  'c8f5',\n",
       "  'c8g4',\n",
       "  'c8h3',\n",
       "  'b8d7',\n",
       "  'b8c6',\n",
       "  'b8a6',\n",
       "  'f6g8',\n",
       "  'f6d7',\n",
       "  'f6h5',\n",
       "  'f6g4',\n",
       "  'f6e4',\n",
       "  'h7h6',\n",
       "  'g7g6',\n",
       "  'e7e6',\n",
       "  'c7c6',\n",
       "  'b7b6',\n",
       "  'a7a6',\n",
       "  'd5d4',\n",
       "  'h7h5',\n",
       "  'g7g5',\n",
       "  'e7e5',\n",
       "  'c7c5',\n",
       "  'b7b5',\n",
       "  'a7a5']}"
      ]
     },
     "execution_count": 5,
     "metadata": {},
     "output_type": "execute_result"
    }
   ],
   "source": [
    "import json\n",
    "\n",
    "data = []\n",
    "with open(f\"annot_data_{ref}.jsonl\", \"r\", encoding=\"utf-8\") as f:\n",
    "    for ligne in f:\n",
    "        data.append(json.loads(ligne))\n",
    "data[5]"
   ]
  }
 ],
 "metadata": {
  "kernelspec": {
   "display_name": "chess",
   "language": "python",
   "name": "python3"
  },
  "language_info": {
   "codemirror_mode": {
    "name": "ipython",
    "version": 3
   },
   "file_extension": ".py",
   "mimetype": "text/x-python",
   "name": "python",
   "nbconvert_exporter": "python",
   "pygments_lexer": "ipython3",
   "version": "3.12.3"
  }
 },
 "nbformat": 4,
 "nbformat_minor": 5
}
